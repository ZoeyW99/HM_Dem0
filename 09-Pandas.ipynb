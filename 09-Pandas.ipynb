{
 "cells": [
  {
   "cell_type": "markdown",
   "source": [
    "# 导包"
   ],
   "metadata": {
    "collapsed": false
   },
   "id": "8c0f6a30624e861a"
  },
  {
   "cell_type": "code",
   "execution_count": null,
   "outputs": [],
   "source": [
    "import matplotlib.pyplot as plt\n",
    "import numpy as np\n",
    "import pandas as pd\n",
    "import seaborn as sns\n",
    "\n",
    "import os\n",
    "\n",
    "# 手动修改 工作空间目录, 即: 修改相对路径的地址\n",
    "os.chdir('D:/workspace/ai_20_work_bj/pandasProject/')\n",
    "os.getcwd()\n",
    "\n",
    "plt.rcParams['font.sans-serif'] = ['SimHei']  # 正常显示汉字\n",
    "plt.rcParams['axes.unicode_minus'] = False  # 正常显示负号"
   ],
   "metadata": {
    "collapsed": false
   },
   "id": "e0a3abc4d55f5ccb"
  },
  {
   "cell_type": "markdown",
   "source": [
    "# 1. 演示Matplotlib绘图"
   ],
   "metadata": {
    "collapsed": false
   },
   "id": "8e4f020fa90e0d6b"
  },
  {
   "cell_type": "markdown",
   "source": [
    "## 1.1 matplotlib绘图方式1: 状态接口"
   ],
   "metadata": {
    "collapsed": false
   },
   "id": "f4a41a36e1d594d3"
  },
  {
   "cell_type": "code",
   "execution_count": null,
   "outputs": [],
   "source": [
    "# 大白话解释: 状态接口 就是通过 plt对象, 调用提供的公共接口(函数), 完成各种操作.\n",
    "# 0. 准备一些数据, 即: 指定X轴值, Y轴值.\n",
    "x = [-3, 5, 7]\n",
    "y = [10, 2, 5]\n",
    "# 1. 创建画布\n",
    "plt.figure(figsize=(10, 5))\n",
    "# 2. 具体的绘图\n",
    "plt.plot(x, y)\n",
    "# 3. 设置x轴 和 y轴值的范围.\n",
    "plt.xlim(-1, 10)\n",
    "plt.ylim(0, 10)\n",
    "# 4. 设置x轴, y轴显示的内容.\n",
    "plt.xlabel('我是X轴', fontsize=20)\n",
    "plt.ylabel('我是y轴')\n",
    "# 5. 设置标题\n",
    "plt.title('我是状态接口方式绘图')\n",
    "plt.grid()  # 可选项, 绘制网格\n",
    "# 6. 具体的绘图\n",
    "plt.show()"
   ],
   "metadata": {
    "collapsed": false
   },
   "id": "1006ca56a2157876"
  },
  {
   "cell_type": "markdown",
   "source": [
    "## 1.2 matplotlib绘图方式2: 面向对象"
   ],
   "metadata": {
    "collapsed": false
   },
   "id": "38d097bcc5d1c08b"
  },
  {
   "cell_type": "code",
   "execution_count": null,
   "outputs": [],
   "source": [
    "# 大白话解释: 获取坐标系对象, 通过坐标系对象 . 的方式, 调用函数, 绘图.\n",
    "# 0. 准备一些数据, 即: 指定X轴值, Y轴值.\n",
    "x = [-3, 5, 7]\n",
    "y = [10, 2, 5]\n",
    "# 1. 创建画布, 坐标轴(坐标系)对象.   fig: 画布, ax: 坐标轴对象\n",
    "fig, ax = plt.subplots(figsize=(10, 5))\n",
    "# 2. 具体的绘图\n",
    "ax.plot(x, y)\n",
    "# 3. 设置x轴 和 y轴值的范围.\n",
    "ax.set_xlim(-1, 10)\n",
    "ax.set_ylim(0, 10)\n",
    "# 4. 设置x轴, y轴显示的内容.\n",
    "ax.set_xlabel('我是X轴', fontsize=20)\n",
    "ax.set_ylabel('我是y轴')\n",
    "# 5. 设置标题\n",
    "ax.set_title('我是状态接口方式绘图')\n",
    "ax.grid()  # 可选项, 绘制网格\n",
    "# 6. 具体的绘图\n",
    "plt.show()"
   ],
   "metadata": {
    "collapsed": false
   },
   "id": "f803bb189b2f5112"
  },
  {
   "cell_type": "markdown",
   "source": [
    "## 1.3 通过安斯科姆数据集, 说明可视化的重要性"
   ],
   "metadata": {
    "collapsed": false
   },
   "id": "e1ce8740e854062b"
  },
  {
   "cell_type": "code",
   "execution_count": null,
   "outputs": [],
   "source": [
    "# 1. 加载数据源, 获取df对象.\n",
    "anscombe = pd.read_csv('data/anscombe.csv')\n",
    "anscombe"
   ],
   "metadata": {
    "collapsed": false
   },
   "id": "9e6ac5b79b8b0c36"
  },
  {
   "cell_type": "code",
   "execution_count": null,
   "outputs": [],
   "source": [
    "# 2. 查看各组数据集\n",
    "anscombe[anscombe['dataset'] == 'I']\n",
    "anscombe[anscombe['dataset'] == 'II']\n",
    "anscombe[anscombe['dataset'] == 'III']\n",
    "anscombe[anscombe['dataset'] == 'IV']\n",
    "\n",
    "# 3. 查看上述各组数据的详情.\n",
    "anscombe.groupby('dataset').describe().T"
   ],
   "metadata": {
    "collapsed": false
   },
   "id": "2edefebfaff830a2"
  },
  {
   "cell_type": "code",
   "execution_count": null,
   "outputs": [],
   "source": [
    "# 4. 通过查看统计结果, 我们发现上述的四组数据高度相似, 那么他们就是相似或者相同的数据吗? 绘制出来的图表是同样的.  我们来可视化看一下.\n",
    "# 4.1 创建画布\n",
    "fig = plt.figure(figsize=(16, 8))\n",
    "# 4.2 创建四个子图\n",
    "ax1 = fig.add_subplot(2, 2, 1)\n",
    "ax2 = fig.add_subplot(2, 2, 2)\n",
    "ax3 = fig.add_subplot(2, 2, 3)\n",
    "ax4 = fig.add_subplot(2, 2, 4)\n",
    "# 4.3 具体的绘制四个子图.\n",
    "ax1.scatter(anscombe[anscombe['dataset'] == 'I']['x'], anscombe[anscombe['dataset'] == 'I']['y'])\n",
    "ax2.scatter(anscombe[anscombe['dataset'] == 'II']['x'], anscombe[anscombe['dataset'] == 'II']['y'])\n",
    "ax3.scatter(anscombe[anscombe['dataset'] == 'III']['x'], anscombe[anscombe['dataset'] == 'III']['y'])\n",
    "ax4.scatter(anscombe[anscombe['dataset'] == 'IV']['x'], anscombe[anscombe['dataset'] == 'IV']['y'])\n",
    "# 4.4 设置子图标题\n",
    "ax1.set_title('数据集I')\n",
    "ax2.set_title('数据集II')\n",
    "ax3.set_title('数据集III')\n",
    "ax4.set_title('数据集IV')\n",
    "# 4.5 设置大图的标题.\n",
    "fig.suptitle('Anscombe数据集', fontsize=20)\n",
    "# 4.6 具体的绘.\n",
    "plt.show()"
   ],
   "metadata": {
    "collapsed": false
   },
   "id": "259ed939351d6d5a"
  },
  {
   "cell_type": "markdown",
   "source": [
    "## 1.4 MatPlotlib绘图-单变量-直方图"
   ],
   "metadata": {
    "collapsed": false
   },
   "id": "d21653f80a606368"
  },
  {
   "cell_type": "code",
   "execution_count": null,
   "outputs": [],
   "source": [
    "# 1. 加载源数据, 获取df对象.\n",
    "tips = pd.read_csv('data/tips.csv')\n",
    "tips"
   ],
   "metadata": {
    "collapsed": false
   },
   "id": "f5decb208c6d8909"
  },
  {
   "cell_type": "code",
   "execution_count": null,
   "outputs": [],
   "source": [
    "# 2. 绘制直方图. 例如: 查看下 各个区间总消费的分布情况.  假设 1 ~ 10 多少次,  11 ~ 50 多少次...\n",
    "plt.figure(figsize=(16, 8))\n",
    "# 参数解释: x 表示x轴值显示的内容.  bins: 几个区间.\n",
    "plt.hist(x=tips['total_bill'], bins=10)  # 这里的10意思是: 划分10个区间.\n",
    "# 设置标题\n",
    "plt.title('总消费金额分布情况', fontsize=20)\n",
    "plt.grid(True)  # 网格\n",
    "plt.show()\n",
    "\n",
    "# 上述的bins = 10, 是划分了10个区间, 其实就是指定 起始值, 结束值, 然后生成长度为 区间+1 个的等差数列\n",
    "# 生成等差数列. \n",
    "# np.linspace(3.07, 50.81, 11)        # 生成 3.07 到 50.81之间, 11个等差数值"
   ],
   "metadata": {
    "collapsed": false
   },
   "id": "e01f902fc5020bd2"
  },
  {
   "cell_type": "markdown",
   "source": [
    "## 1.5 MatPlotlib绘图-双变量-散点图"
   ],
   "metadata": {
    "collapsed": false
   },
   "id": "ca72e9627993046e"
  },
  {
   "cell_type": "code",
   "execution_count": null,
   "outputs": [],
   "source": [
    "# 1. 创建画布\n",
    "plt.figure(figsize=(16, 8))\n",
    "# 2. 绘制散点图, 适合: 展示双变量(两个值的关系)\n",
    "# x轴: 总消费金额,  y轴: 小费金额\n",
    "plt.scatter(x=tips['total_bill'], y=tips.tip)\n",
    "# 3. 设置x轴, y轴显示内容.\n",
    "plt.xlabel('总消费金额')\n",
    "plt.ylabel('小费金额')\n",
    "# 4. 设置网格\n",
    "plt.grid(True)\n",
    "# 5. 绘图.\n",
    "plt.show()"
   ],
   "metadata": {
    "collapsed": false
   },
   "id": "fbe8372107ac9e44"
  },
  {
   "cell_type": "markdown",
   "source": [
    "## 1.6 Matplotlib绘图-多变量-散点图"
   ],
   "metadata": {
    "collapsed": false
   },
   "id": "879f3846ef7fa44e"
  },
  {
   "cell_type": "code",
   "execution_count": null,
   "outputs": [],
   "source": [
    "# 1. 查看数据源.\n",
    "tips  # 发现, 有性别, 但是没有指定, 什么性别, 用什么颜色的点来回执, 给表新增1列, 表示: 性别的(散点)颜色\n",
    "\n",
    "\n",
    "# 2. 自定义函数, 接收性别, 判断值, 基于颜色.\n",
    "def recode_sex(sex):\n",
    "    if sex == 'Female':\n",
    "        return 'r'  # 'r' => red\n",
    "    else:\n",
    "        return 'b'  # 'b' => blue, 基础颜色可以直接只写1个字母\n",
    "\n",
    "\n",
    "# 3. 给tips新增一列.\n",
    "tips['sex_color'] = tips['sex'].apply(recode_sex)\n",
    "tips"
   ],
   "metadata": {
    "collapsed": false
   },
   "id": "f327ab190a8182eb"
  },
  {
   "cell_type": "code",
   "execution_count": null,
   "outputs": [],
   "source": [
    "# 4. 绘制, 多变量, 散点图.\n",
    "# 4.1 创建画布\n",
    "plt.figure(figsize=(16, 8))\n",
    "# 4.2 具体的绘图, 散点图\n",
    "# x轴: 总消费金额, y轴: 小费, c: color(散点的颜色), s: size(散点的大小), alpha: 散点的透明度\n",
    "plt.scatter(tips.total_bill, tips.tip, c=sex_color, s=tips['size'] * 10, alpha=0.5)\n",
    "# 4.3 设置x轴, y轴显示内容.\n",
    "plt.xlabel('总消费金额')\n",
    "plt.ylabel('小费金额')\n",
    "# 4.4 设置网格\n",
    "plt.grid(True)\n",
    "# 4.5 绘图.\n",
    "plt.show()"
   ],
   "metadata": {
    "collapsed": false
   },
   "id": "bcb654023a7de7fd"
  },
  {
   "cell_type": "markdown",
   "source": [
    "# 2.Pandas绘图"
   ],
   "metadata": {
    "collapsed": false
   },
   "id": "4c997fbd95756960"
  },
  {
   "cell_type": "code",
   "execution_count": null,
   "outputs": [],
   "source": [
    "# 1. 加载数据源, 获取数据.\n",
    "review = pd.read_csv('data/winemag-data_first150k.csv')\n",
    "review"
   ],
   "metadata": {
    "collapsed": false
   },
   "id": "d54b93bcae32ccd7"
  },
  {
   "cell_type": "markdown",
   "source": [
    "## 2.1 单变量-柱状图"
   ],
   "metadata": {
    "collapsed": false
   },
   "id": "419b5b584567f8d7"
  },
  {
   "cell_type": "code",
   "execution_count": null,
   "outputs": [],
   "source": [
    "# 需求1: 看看哪个产区的葡萄酒品种多.\n",
    "# 定义变量 kwargs, 表示: 图形所需要用到的参数\n",
    "# figsize: 设置宽高, color: 可选的颜色, grid: 网格线\n",
    "kwargs = dict(figsize=(12, 6), color=['r', 'g', 'b', 'orange', 'pink'], grid=True)\n",
    "# bar: 柱状图\n",
    "review['province'].value_counts().head(10).plot.bar(**kwargs)"
   ],
   "metadata": {
    "collapsed": false
   },
   "id": "9b54bf500d3b9653"
  },
  {
   "cell_type": "code",
   "execution_count": null,
   "outputs": [],
   "source": [
    "# 需求2: 计算 加利福尼亚葡萄酒占总数的百分比.\n",
    "# (review['province'].value_counts().head(1) / len(review)).plot.bar(**kwargs)\n",
    "\n",
    "# 上述需求意义不大, 我们改造下, 改为: 葡萄酒种类最多的10个产品, 各自占比\n",
    "(review['province'].value_counts().head(10) / len(review)).plot.bar(**kwargs)"
   ],
   "metadata": {
    "collapsed": false
   },
   "id": "f179cd685e0adff1"
  },
  {
   "cell_type": "code",
   "execution_count": null,
   "outputs": [],
   "source": [
    "# 需求3: 给出评分数量的分布情况\n",
    "review['points'].value_counts().sort_index().plot.bar(**kwargs)"
   ],
   "metadata": {
    "collapsed": false
   },
   "id": "c905b0b8176b48b9"
  },
  {
   "cell_type": "code",
   "execution_count": null,
   "outputs": [],
   "source": [
    "# 需求4: 折线图, 比较适合 连续值 的情况.\n",
    "review['points'].value_counts().sort_index().plot.line(**kwargs)  # 评分是一个连续值. "
   ],
   "metadata": {
    "collapsed": false
   },
   "id": "bf8eb3c405847aac"
  },
  {
   "cell_type": "code",
   "execution_count": null,
   "outputs": [],
   "source": [
    "# 需求5: 面积图, 即: 把折线下边的区域, 用颜色填充.\n",
    "review['points'].value_counts().sort_index().plot.area(**kwargs)"
   ],
   "metadata": {
    "collapsed": false
   },
   "id": "8d19bfff6660bca5"
  },
  {
   "cell_type": "code",
   "execution_count": null,
   "outputs": [],
   "source": [
    "# 需求6: 饼图, 适合展示 少量的分类分布情况, 可以和柱状图切换. \n",
    "review['province'].value_counts().head(10).plot.pie(figsize=(20, 10))"
   ],
   "metadata": {
    "collapsed": false
   },
   "id": "365325f46de49bfd"
  },
  {
   "cell_type": "markdown",
   "source": [
    "# 3.Seaborn绘图"
   ],
   "metadata": {
    "collapsed": false
   },
   "id": "cde9382c502fcc01"
  },
  {
   "cell_type": "markdown",
   "source": [
    "## 3.1 Seaborn绘图-单变量"
   ],
   "metadata": {
    "collapsed": false
   },
   "id": "137e918b9587d57"
  },
  {
   "cell_type": "code",
   "execution_count": null,
   "outputs": [],
   "source": [
    "# 1. 加载源文件, 获取df对象.\n",
    "tips = pd.read_csv('data/tips.csv')\n",
    "tips"
   ],
   "metadata": {
    "collapsed": false
   },
   "id": "8778cca5ae081781"
  },
  {
   "cell_type": "markdown",
   "source": [
    "### 3.1.1 需求1: 绘制 总消费金额的 直方图."
   ],
   "metadata": {
    "collapsed": false
   },
   "id": "3468630ff749823f"
  },
  {
   "cell_type": "code",
   "execution_count": null,
   "outputs": [],
   "source": [
    "# step1: 创建画布, 坐标轴对象.\n",
    "fig, ax = plt.subplots(figsize=(16, 8))\n",
    "# step2: 绘图, data: 表示数据源, 即: 从哪个df或者 series对象中 加载数据.   x: 设置x轴值\n",
    "# kde: 核密度折线, 用于分析 数据的正态分布情况的, 样本数据, 数据分布...\n",
    "sns.histplot(data=tips, x='total_bill', kde=True)\n",
    "# step3: 设置标题\n",
    "ax.set_title('总消费金额直方图', fontsize=15)\n",
    "# step4: 具体的绘制.\n",
    "plt.show()      # 可以省略不写."
   ],
   "metadata": {
    "collapsed": false
   },
   "id": "1dce77b4e35f5808"
  },
  {
   "cell_type": "markdown",
   "source": [
    "### 3.1.2 需求2: 绘制 总消费金额的 密度图"
   ],
   "metadata": {
    "collapsed": false
   },
   "id": "def220bff1216d8e"
  },
  {
   "cell_type": "code",
   "execution_count": null,
   "outputs": [],
   "source": [
    "# 密度图介绍: 它也是展示单变量的一种图形, 本质是通过绘制以每个数据点为中心的正态分布, 然后消除重叠, 使曲线下的面积为1来绘制.\n",
    "# 目的: 查看数据的分布情况. \n",
    "# 1. 创建画布, 坐标轴对象.\n",
    "fig, ax = plt.subplots(figsize=(16, 8))\n",
    "# 2. 绘图.\n",
    "# sns.kdeplot(data=tips, x='total_bill')      # 写法1\n",
    "sns.kdeplot(tips['total_bill'])               # 写法2, 语法糖\n",
    "# 3. 设置标题.\n",
    "ax.set_title('总消费金额-密度图')\n",
    "# 4. 具体的展示动作.\n",
    "plt.show()"
   ],
   "metadata": {
    "collapsed": false
   },
   "id": "b8a4b235603e1e59"
  },
  {
   "cell_type": "markdown",
   "source": [
    "### 3.1.3 需求3: 绘制 按天(Day)统计的 计数图"
   ],
   "metadata": {
    "collapsed": false
   },
   "id": "4743a68879cee6b"
  },
  {
   "cell_type": "code",
   "execution_count": null,
   "outputs": [],
   "source": [
    "# 1. 创建画布, 坐标轴对象.\n",
    "fig, ax = plt.subplots(figsize=(16, 8))\n",
    "# 2. 绘图.\n",
    "sns.countplot(data=tips, x='day')\n",
    "# 3. 设置标题.\n",
    "ax.set_title('按天统计-计数图')\n",
    "# 4. 具体的展示动作.\n",
    "plt.show()"
   ],
   "metadata": {
    "collapsed": false
   },
   "id": "4e879e4b2741210d"
  },
  {
   "cell_type": "markdown",
   "source": [
    "## 3.2 Seaborn绘图-双变量"
   ],
   "metadata": {
    "collapsed": false
   },
   "id": "8e0ca9153f20d572"
  },
  {
   "cell_type": "markdown",
   "source": [
    "### 3.2.1 需求1: 绘制散点图"
   ],
   "metadata": {
    "collapsed": false
   },
   "id": "c5001c9c0650a875"
  },
  {
   "cell_type": "code",
   "execution_count": null,
   "outputs": [],
   "source": [
    "# 前言: 在Seaborn中, 绘制散点图有很多的方式, 例如: scatterplot(), regplot(), jointplot()\n",
    "# 方式1: scatter()方式绘制.\n",
    "# 1. 创建画布, 坐标轴对象.\n",
    "fig, ax = plt.subplots(figsize=(16, 8))\n",
    "# 2. 绘图.\n",
    "# hue: 按哪列分组, 传入1个类别字段即可. \n",
    "# sns.scatterplot(data=tips, x='total_bill', y='tip', hue='sex')\n",
    "sns.scatterplot(data=tips, x='total_bill', y='tip')\n",
    "# 3. 设置标题.\n",
    "ax.set_title('总消费金额-小费 关系图')\n",
    "# 4. 具体的展示动作.\n",
    "plt.show()"
   ],
   "metadata": {
    "collapsed": false
   },
   "id": "c4701f68e48f165f"
  },
  {
   "cell_type": "code",
   "execution_count": null,
   "outputs": [],
   "source": [
    "# 方式2: regplot()方式绘制, 散点图 + 拟合回归线. \n",
    "# 1. 创建画布, 坐标轴对象.\n",
    "fig, ax = plt.subplots(figsize=(16, 8))\n",
    "# 2. 绘图.\n",
    "# sns.regplot(data=tips, x='total_bill', y='tip', fit_reg=False)  # fit_reg=False 关闭拟合回归线\n",
    "sns.regplot(data=tips, x='total_bill', y='tip')     # fit_reg 表示是否回执 拟合回归线, 默认是: True(绘制)\n",
    "# 3. 设置标题.\n",
    "ax.set_title('总消费金额-小费 关系图')\n",
    "# 4. 具体的展示动作.\n",
    "plt.show()"
   ],
   "metadata": {
    "collapsed": false
   },
   "id": "ece46a3919a5d8ca"
  },
  {
   "cell_type": "code",
   "execution_count": null,
   "outputs": [],
   "source": [
    "# 方式3: jointplot()方式绘制, 散点图 + (各行各列)直方图. \n",
    "# 散点图 + 直方图\n",
    "# sns.jointplot(data=tips, x='total_bill', y='tip', height=10)     # 特殊图形, 不结合画布使用, 设置宽高用  height属性即可.\n",
    "\n",
    "# 蜂巢图 + 直方图,  kind: 图形类型.\n",
    "sns.jointplot(data=tips, x='total_bill', y='tip', height=10, kind='hex')   # hex等价于MatPlotlib的hexbin(), 蜂巢图"
   ],
   "metadata": {
    "collapsed": false
   },
   "id": "bd49543abbbf9d8"
  },
  {
   "cell_type": "markdown",
   "source": [
    "### 3.2.2 需求2: 绘制2D密度图"
   ],
   "metadata": {
    "collapsed": false
   },
   "id": "9594abba5d972e33"
  },
  {
   "cell_type": "code",
   "execution_count": null,
   "outputs": [],
   "source": [
    "# 2D密度图 和 之前绘制的密度图类似, 只不过 2D密度图反应的是两个变量的变量.\n",
    "# 1. 创建画布, 坐标轴对象\n",
    "fig, ax = plt.subplots(figsize=(12, 6))\n",
    "# 2. 绘图.\n",
    "# data: 要操作的数据集(df对象或者Series对象)\n",
    "# x, y: x轴, y轴显示的内容.\n",
    "# fill: 表示是否填充.\n",
    "# cbar: 表示是否显示右侧的图例. \n",
    "sns.kdeplot(data=tips, x='total_bill', y='tip', fill=True, cbar=True)\n",
    "# 3. 设置x轴, y轴值内容.\n",
    "ax.set_xlabel('总消费金额')\n",
    "ax.set_ylabel('小费金额')\n",
    "# 4. 具体的绘图\n",
    "plt.show()"
   ],
   "metadata": {
    "collapsed": false
   },
   "id": "77a3554bb6dcd032"
  },
  {
   "cell_type": "markdown",
   "source": [
    "### 3.2.3 需求3: 绘制 箱线图\n"
   ],
   "metadata": {
    "collapsed": false
   },
   "id": "81d96916dab3c728"
  },
  {
   "cell_type": "code",
   "execution_count": 161,
   "outputs": [
    {
     "name": "stderr",
     "output_type": "stream",
     "text": [
      "C:\\Software\\DevelopSofware\\Anaconda3\\lib\\site-packages\\matplotlib\\backends\\backend_agg.py:238: RuntimeWarning: Glyph 28040 missing from current font.\n",
      "  font.set_text(s, 0.0, flags=flags)\n",
      "C:\\Software\\DevelopSofware\\Anaconda3\\lib\\site-packages\\matplotlib\\backends\\backend_agg.py:238: RuntimeWarning: Glyph 36153 missing from current font.\n",
      "  font.set_text(s, 0.0, flags=flags)\n",
      "C:\\Software\\DevelopSofware\\Anaconda3\\lib\\site-packages\\matplotlib\\backends\\backend_agg.py:238: RuntimeWarning: Glyph 31867 missing from current font.\n",
      "  font.set_text(s, 0.0, flags=flags)\n",
      "C:\\Software\\DevelopSofware\\Anaconda3\\lib\\site-packages\\matplotlib\\backends\\backend_agg.py:238: RuntimeWarning: Glyph 22411 missing from current font.\n",
      "  font.set_text(s, 0.0, flags=flags)\n",
      "C:\\Software\\DevelopSofware\\Anaconda3\\lib\\site-packages\\matplotlib\\backends\\backend_agg.py:238: RuntimeWarning: Glyph 21320 missing from current font.\n",
      "  font.set_text(s, 0.0, flags=flags)\n",
      "C:\\Software\\DevelopSofware\\Anaconda3\\lib\\site-packages\\matplotlib\\backends\\backend_agg.py:238: RuntimeWarning: Glyph 39184 missing from current font.\n",
      "  font.set_text(s, 0.0, flags=flags)\n",
      "C:\\Software\\DevelopSofware\\Anaconda3\\lib\\site-packages\\matplotlib\\backends\\backend_agg.py:238: RuntimeWarning: Glyph 26202 missing from current font.\n",
      "  font.set_text(s, 0.0, flags=flags)\n",
      "C:\\Software\\DevelopSofware\\Anaconda3\\lib\\site-packages\\matplotlib\\backends\\backend_agg.py:238: RuntimeWarning: Glyph 24635 missing from current font.\n",
      "  font.set_text(s, 0.0, flags=flags)\n",
      "C:\\Software\\DevelopSofware\\Anaconda3\\lib\\site-packages\\matplotlib\\backends\\backend_agg.py:238: RuntimeWarning: Glyph 37329 missing from current font.\n",
      "  font.set_text(s, 0.0, flags=flags)\n",
      "C:\\Software\\DevelopSofware\\Anaconda3\\lib\\site-packages\\matplotlib\\backends\\backend_agg.py:238: RuntimeWarning: Glyph 39069 missing from current font.\n",
      "  font.set_text(s, 0.0, flags=flags)\n",
      "C:\\Software\\DevelopSofware\\Anaconda3\\lib\\site-packages\\matplotlib\\backends\\backend_agg.py:201: RuntimeWarning: Glyph 28040 missing from current font.\n",
      "  font.set_text(s, 0, flags=flags)\n",
      "C:\\Software\\DevelopSofware\\Anaconda3\\lib\\site-packages\\matplotlib\\backends\\backend_agg.py:201: RuntimeWarning: Glyph 36153 missing from current font.\n",
      "  font.set_text(s, 0, flags=flags)\n",
      "C:\\Software\\DevelopSofware\\Anaconda3\\lib\\site-packages\\matplotlib\\backends\\backend_agg.py:201: RuntimeWarning: Glyph 31867 missing from current font.\n",
      "  font.set_text(s, 0, flags=flags)\n",
      "C:\\Software\\DevelopSofware\\Anaconda3\\lib\\site-packages\\matplotlib\\backends\\backend_agg.py:201: RuntimeWarning: Glyph 22411 missing from current font.\n",
      "  font.set_text(s, 0, flags=flags)\n",
      "C:\\Software\\DevelopSofware\\Anaconda3\\lib\\site-packages\\matplotlib\\backends\\backend_agg.py:201: RuntimeWarning: Glyph 21320 missing from current font.\n",
      "  font.set_text(s, 0, flags=flags)\n",
      "C:\\Software\\DevelopSofware\\Anaconda3\\lib\\site-packages\\matplotlib\\backends\\backend_agg.py:201: RuntimeWarning: Glyph 39184 missing from current font.\n",
      "  font.set_text(s, 0, flags=flags)\n",
      "C:\\Software\\DevelopSofware\\Anaconda3\\lib\\site-packages\\matplotlib\\backends\\backend_agg.py:201: RuntimeWarning: Glyph 26202 missing from current font.\n",
      "  font.set_text(s, 0, flags=flags)\n",
      "C:\\Software\\DevelopSofware\\Anaconda3\\lib\\site-packages\\matplotlib\\backends\\backend_agg.py:201: RuntimeWarning: Glyph 24635 missing from current font.\n",
      "  font.set_text(s, 0, flags=flags)\n",
      "C:\\Software\\DevelopSofware\\Anaconda3\\lib\\site-packages\\matplotlib\\backends\\backend_agg.py:201: RuntimeWarning: Glyph 37329 missing from current font.\n",
      "  font.set_text(s, 0, flags=flags)\n",
      "C:\\Software\\DevelopSofware\\Anaconda3\\lib\\site-packages\\matplotlib\\backends\\backend_agg.py:201: RuntimeWarning: Glyph 39069 missing from current font.\n",
      "  font.set_text(s, 0, flags=flags)\n"
     ]
    },
    {
     "data": {
      "text/plain": "<Figure size 864x432 with 1 Axes>",
      "image/png": "[encoded data removed]"
     },
     "metadata": {},
     "output_type": "display_data"
    }
   ],
   "source": [
    "# 箱线图用于显示多种统计信息, 例如: 最小值, 1/4分位, 中位数, 3/4分位, 最大值, 以及离群值(如果有), 一般用于 异常值的检测.\n",
    "# 1. 创建画布, 坐标轴对象\n",
    "fig, ax = plt.subplots(figsize=(12, 6))\n",
    "# 2. 绘图.\n",
    "# data: 要操作的数据集(df对象或者Series对象)\n",
    "# x: x轴的内容, 这里是: 消费类型(午餐, 晚餐)\n",
    "# y: y轴的内容, 这里是: 总消费金额\n",
    "sns.boxplot(data=tips, x='time', y='total_bill')\n",
    "# 3. 设置x轴, y轴值内容.\n",
    "ax.set_xlabel('消费类型(午餐/晚餐)')\n",
    "ax.set_ylabel('总消费金额')\n",
    "# 4. 具体的绘图\n",
    "plt.show()"
   ],
   "metadata": {
    "collapsed": false,
    "ExecuteTime": {
     "end_time": "2024-07-24T07:16:11.836948Z",
     "start_time": "2024-07-24T07:16:11.705300700Z"
    }
   },
   "id": "42604b71358a1848"
  },
  {
   "cell_type": "markdown",
   "source": [
    "### 3.2.4 需求5: 绘制小提琴图"
   ],
   "metadata": {
    "collapsed": false
   },
   "id": "cb9b3c08d46e411e"
  },
  {
   "cell_type": "code",
   "execution_count": null,
   "outputs": [],
   "source": [
    "# 箱线图会掩盖数据的分布, 小提琴图可以把箱线绘制成 核密度预估.\n",
    "# 1. 创建画布, 坐标轴对象\n",
    "fig, ax = plt.subplots(figsize=(12, 6))\n",
    "# 2. 绘图.\n",
    "# data: 要操作的数据集(df对象或者Series对象)\n",
    "# x: x轴的内容, 这里是: 消费类型(午餐, 晚餐)\n",
    "# y: y轴的内容, 这里是: 总消费金额\n",
    "sns.violinplot(data=tips, x='time', y='total_bill')\n",
    "# 3. 设置x轴, y轴值内容.\n",
    "ax.set_xlabel('消费类型(午餐/晚餐)')\n",
    "ax.set_ylabel('总消费金额')\n",
    "# 4. 具体的绘图\n",
    "plt.show()"
   ],
   "metadata": {
    "collapsed": false
   },
   "id": "f58da565e0e79591"
  },
  {
   "cell_type": "markdown",
   "source": [
    "## 3.3 Seaborn绘制 多变量"
   ],
   "metadata": {
    "collapsed": false
   },
   "id": "a2a00428087d857f"
  },
  {
   "cell_type": "code",
   "execution_count": null,
   "outputs": [],
   "source": [
    "# Seaborn绘制多变量, 没有标准的套路, 可以加入: 形状, 颜色, 大小等来区分.\n",
    "# 1. 创建画布, 坐标轴对象\n",
    "fig, ax = plt.subplots(figsize=(12, 6))\n",
    "# 2. 绘图.\n",
    "# data: 要操作的数据集(df对象或者Series对象)\n",
    "# x: x轴的内容, 这里是: 消费类型(午餐, 晚餐)\n",
    "# y: y轴的内容, 这里是: 总消费金额\n",
    "# hue: 基于哪列字段进行分组.\n",
    "# split: 结合hue参数使用时有效, 可以把 多个类别的数据组合到一起, 方便查看.\n",
    "sns.violinplot(data=tips, x='time', y='total_bill', hue='sex', split=True)     # 变量1: 时间time, 变量2: total_bill 总消费金额, 变量3: sex 性别\n",
    "# 3. 设置x轴, y轴值内容.\n",
    "ax.set_xlabel('消费类型(午餐/晚餐)')\n",
    "ax.set_ylabel('总消费金额')\n",
    "# 4. 具体的绘图\n",
    "plt.show()"
   ],
   "metadata": {
    "collapsed": false
   },
   "id": "658b47087a06cc78"
  },
  {
   "cell_type": "markdown",
   "source": [
    "# 4. Seaborn的样式"
   ],
   "metadata": {
    "collapsed": false
   },
   "id": "dbb5b1da92ada931"
  },
  {
   "cell_type": "code",
   "execution_count": 165,
   "outputs": [
    {
     "name": "stderr",
     "output_type": "stream",
     "text": [
      "C:\\Software\\DevelopSofware\\Anaconda3\\lib\\site-packages\\matplotlib\\backends\\backend_agg.py:238: RuntimeWarning: Glyph 28040 missing from current font.\n",
      "  font.set_text(s, 0.0, flags=flags)\n",
      "C:\\Software\\DevelopSofware\\Anaconda3\\lib\\site-packages\\matplotlib\\backends\\backend_agg.py:238: RuntimeWarning: Glyph 36153 missing from current font.\n",
      "  font.set_text(s, 0.0, flags=flags)\n",
      "C:\\Software\\DevelopSofware\\Anaconda3\\lib\\site-packages\\matplotlib\\backends\\backend_agg.py:238: RuntimeWarning: Glyph 31867 missing from current font.\n",
      "  font.set_text(s, 0.0, flags=flags)\n",
      "C:\\Software\\DevelopSofware\\Anaconda3\\lib\\site-packages\\matplotlib\\backends\\backend_agg.py:238: RuntimeWarning: Glyph 22411 missing from current font.\n",
      "  font.set_text(s, 0.0, flags=flags)\n",
      "C:\\Software\\DevelopSofware\\Anaconda3\\lib\\site-packages\\matplotlib\\backends\\backend_agg.py:238: RuntimeWarning: Glyph 21320 missing from current font.\n",
      "  font.set_text(s, 0.0, flags=flags)\n",
      "C:\\Software\\DevelopSofware\\Anaconda3\\lib\\site-packages\\matplotlib\\backends\\backend_agg.py:238: RuntimeWarning: Glyph 39184 missing from current font.\n",
      "  font.set_text(s, 0.0, flags=flags)\n",
      "C:\\Software\\DevelopSofware\\Anaconda3\\lib\\site-packages\\matplotlib\\backends\\backend_agg.py:238: RuntimeWarning: Glyph 26202 missing from current font.\n",
      "  font.set_text(s, 0.0, flags=flags)\n",
      "C:\\Software\\DevelopSofware\\Anaconda3\\lib\\site-packages\\matplotlib\\backends\\backend_agg.py:238: RuntimeWarning: Glyph 24635 missing from current font.\n",
      "  font.set_text(s, 0.0, flags=flags)\n",
      "C:\\Software\\DevelopSofware\\Anaconda3\\lib\\site-packages\\matplotlib\\backends\\backend_agg.py:238: RuntimeWarning: Glyph 37329 missing from current font.\n",
      "  font.set_text(s, 0.0, flags=flags)\n",
      "C:\\Software\\DevelopSofware\\Anaconda3\\lib\\site-packages\\matplotlib\\backends\\backend_agg.py:238: RuntimeWarning: Glyph 39069 missing from current font.\n",
      "  font.set_text(s, 0.0, flags=flags)\n",
      "C:\\Software\\DevelopSofware\\Anaconda3\\lib\\site-packages\\matplotlib\\backends\\backend_agg.py:201: RuntimeWarning: Glyph 28040 missing from current font.\n",
      "  font.set_text(s, 0, flags=flags)\n",
      "C:\\Software\\DevelopSofware\\Anaconda3\\lib\\site-packages\\matplotlib\\backends\\backend_agg.py:201: RuntimeWarning: Glyph 36153 missing from current font.\n",
      "  font.set_text(s, 0, flags=flags)\n",
      "C:\\Software\\DevelopSofware\\Anaconda3\\lib\\site-packages\\matplotlib\\backends\\backend_agg.py:201: RuntimeWarning: Glyph 31867 missing from current font.\n",
      "  font.set_text(s, 0, flags=flags)\n",
      "C:\\Software\\DevelopSofware\\Anaconda3\\lib\\site-packages\\matplotlib\\backends\\backend_agg.py:201: RuntimeWarning: Glyph 22411 missing from current font.\n",
      "  font.set_text(s, 0, flags=flags)\n",
      "C:\\Software\\DevelopSofware\\Anaconda3\\lib\\site-packages\\matplotlib\\backends\\backend_agg.py:201: RuntimeWarning: Glyph 21320 missing from current font.\n",
      "  font.set_text(s, 0, flags=flags)\n",
      "C:\\Software\\DevelopSofware\\Anaconda3\\lib\\site-packages\\matplotlib\\backends\\backend_agg.py:201: RuntimeWarning: Glyph 39184 missing from current font.\n",
      "  font.set_text(s, 0, flags=flags)\n",
      "C:\\Software\\DevelopSofware\\Anaconda3\\lib\\site-packages\\matplotlib\\backends\\backend_agg.py:201: RuntimeWarning: Glyph 26202 missing from current font.\n",
      "  font.set_text(s, 0, flags=flags)\n",
      "C:\\Software\\DevelopSofware\\Anaconda3\\lib\\site-packages\\matplotlib\\backends\\backend_agg.py:201: RuntimeWarning: Glyph 24635 missing from current font.\n",
      "  font.set_text(s, 0, flags=flags)\n",
      "C:\\Software\\DevelopSofware\\Anaconda3\\lib\\site-packages\\matplotlib\\backends\\backend_agg.py:201: RuntimeWarning: Glyph 37329 missing from current font.\n",
      "  font.set_text(s, 0, flags=flags)\n",
      "C:\\Software\\DevelopSofware\\Anaconda3\\lib\\site-packages\\matplotlib\\backends\\backend_agg.py:201: RuntimeWarning: Glyph 39069 missing from current font.\n",
      "  font.set_text(s, 0, flags=flags)\n"
     ]
    },
    {
     "data": {
      "text/plain": "<Figure size 864x432 with 1 Axes>",
      "image/png": "[encoded data removed]"
     },
     "metadata": {},
     "output_type": "display_data"
    }
   ],
   "source": [
    "# Seaborn的样式是 设置一次以后, 其它的图就都生效了, 即: 都会使用这个样式.\n",
    "# 格式: sns.set_style('样式名')\n",
    "# 样式分类:  white(白色背景, 默认), whitegrid(白色背景 + 网格), dark(深色背景), darkgrid(深色背景 + 网格), ticks(轴的(分组)标线)\n",
    "\n",
    "# 设置Seaborn的样式.\n",
    "sns.set_style('white')\n",
    "\n",
    "# 1. 创建画布, 坐标轴对象\n",
    "fig, ax = plt.subplots(figsize=(12, 6))\n",
    "# 2. 绘图.\n",
    "sns.violinplot(data=tips, x='time', y='total_bill', hue='sex', split=True)     # 变量1: 时间time, 变量2: total_bill 总消费金额, 变量3: sex 性别\n",
    "# 3. 设置x轴, y轴值内容.\n",
    "ax.set_xlabel('消费类型(午餐/晚餐)')\n",
    "ax.set_ylabel('总消费金额')\n",
    "# 4. 具体的绘图\n",
    "plt.show()"
   ],
   "metadata": {
    "collapsed": false,
    "ExecuteTime": {
     "end_time": "2024-07-24T07:18:07.177532400Z",
     "start_time": "2024-07-24T07:18:07.007956Z"
    }
   },
   "id": "813a554f3a6e5f77"
  }
 ],
 "metadata": {
  "kernelspec": {
   "display_name": "Python 3",
   "language": "python",
   "name": "python3"
  },
  "language_info": {
   "codemirror_mode": {
    "name": "ipython",
    "version": 2
   },
   "file_extension": ".py",
   "mimetype": "text/x-python",
   "name": "python",
   "nbconvert_exporter": "python",
   "pygments_lexer": "ipython2",
   "version": "2.7.6"
  }
 },
 "nbformat": 4,
 "nbformat_minor": 5
}
